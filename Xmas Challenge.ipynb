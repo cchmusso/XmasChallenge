{
 "cells": [
  {
   "cell_type": "markdown",
   "metadata": {},
   "source": [
    "# Data Preparation"
   ]
  },
  {
   "cell_type": "code",
   "execution_count": 1,
   "metadata": {
    "collapsed": true
   },
   "outputs": [],
   "source": [
    "#Import libraries\n",
    "import pandas as pd\n",
    "import sklearn as sk\n",
    "from sklearn import linear_model"
   ]
  },
  {
   "cell_type": "code",
   "execution_count": 2,
   "metadata": {
    "collapsed": false
   },
   "outputs": [
    {
     "name": "stderr",
     "output_type": "stream",
     "text": [
      "C:\\Users\\cmusso\\AppData\\Local\\Continuum\\Anaconda3\\lib\\site-packages\\numpy\\lib\\function_base.py:3834: RuntimeWarning: Invalid value encountered in percentile\n",
      "  RuntimeWarning)\n"
     ]
    },
    {
     "data": {
      "text/html": [
       "<div>\n",
       "<table border=\"1\" class=\"dataframe\">\n",
       "  <thead>\n",
       "    <tr style=\"text-align: right;\">\n",
       "      <th></th>\n",
       "      <th>personalID</th>\n",
       "      <th>realChristmasTree</th>\n",
       "      <th>age</th>\n",
       "      <th>serviceYears</th>\n",
       "      <th>familySize</th>\n",
       "      <th>invoiceNumberChristmasTree</th>\n",
       "      <th>KmDriven</th>\n",
       "    </tr>\n",
       "  </thead>\n",
       "  <tbody>\n",
       "    <tr>\n",
       "      <th>count</th>\n",
       "      <td>890.000000</td>\n",
       "      <td>890.000000</td>\n",
       "      <td>713.000000</td>\n",
       "      <td>890.000000</td>\n",
       "      <td>890.000000</td>\n",
       "      <td>890.000000</td>\n",
       "      <td>890.000000</td>\n",
       "    </tr>\n",
       "    <tr>\n",
       "      <th>mean</th>\n",
       "      <td>446.500000</td>\n",
       "      <td>0.384270</td>\n",
       "      <td>29.709916</td>\n",
       "      <td>1.522472</td>\n",
       "      <td>0.382022</td>\n",
       "      <td>52188.444944</td>\n",
       "      <td>34834.836961</td>\n",
       "    </tr>\n",
       "    <tr>\n",
       "      <th>std</th>\n",
       "      <td>257.065167</td>\n",
       "      <td>0.486696</td>\n",
       "      <td>14.533827</td>\n",
       "      <td>1.103247</td>\n",
       "      <td>0.806409</td>\n",
       "      <td>28510.925697</td>\n",
       "      <td>7457.147624</td>\n",
       "    </tr>\n",
       "    <tr>\n",
       "      <th>min</th>\n",
       "      <td>2.000000</td>\n",
       "      <td>0.000000</td>\n",
       "      <td>0.420000</td>\n",
       "      <td>1.000000</td>\n",
       "      <td>0.000000</td>\n",
       "      <td>390.000000</td>\n",
       "      <td>30000.000000</td>\n",
       "    </tr>\n",
       "    <tr>\n",
       "      <th>25%</th>\n",
       "      <td>224.250000</td>\n",
       "      <td>0.000000</td>\n",
       "      <td>NaN</td>\n",
       "      <td>1.000000</td>\n",
       "      <td>0.000000</td>\n",
       "      <td>27776.000000</td>\n",
       "      <td>31188.750000</td>\n",
       "    </tr>\n",
       "    <tr>\n",
       "      <th>50%</th>\n",
       "      <td>446.500000</td>\n",
       "      <td>0.000000</td>\n",
       "      <td>NaN</td>\n",
       "      <td>1.000000</td>\n",
       "      <td>0.000000</td>\n",
       "      <td>52843.000000</td>\n",
       "      <td>32168.130000</td>\n",
       "    </tr>\n",
       "    <tr>\n",
       "      <th>75%</th>\n",
       "      <td>668.750000</td>\n",
       "      <td>1.000000</td>\n",
       "      <td>NaN</td>\n",
       "      <td>2.000000</td>\n",
       "      <td>0.000000</td>\n",
       "      <td>76600.250000</td>\n",
       "      <td>34650.000000</td>\n",
       "    </tr>\n",
       "    <tr>\n",
       "      <th>max</th>\n",
       "      <td>891.000000</td>\n",
       "      <td>1.000000</td>\n",
       "      <td>80.000000</td>\n",
       "      <td>9.000000</td>\n",
       "      <td>6.000000</td>\n",
       "      <td>99940.000000</td>\n",
       "      <td>106849.380000</td>\n",
       "    </tr>\n",
       "  </tbody>\n",
       "</table>\n",
       "</div>"
      ],
      "text/plain": [
       "       personalID  realChristmasTree         age  serviceYears  familySize  \\\n",
       "count  890.000000         890.000000  713.000000    890.000000  890.000000   \n",
       "mean   446.500000           0.384270   29.709916      1.522472    0.382022   \n",
       "std    257.065167           0.486696   14.533827      1.103247    0.806409   \n",
       "min      2.000000           0.000000    0.420000      1.000000    0.000000   \n",
       "25%    224.250000           0.000000         NaN      1.000000    0.000000   \n",
       "50%    446.500000           0.000000         NaN      1.000000    0.000000   \n",
       "75%    668.750000           1.000000         NaN      2.000000    0.000000   \n",
       "max    891.000000           1.000000   80.000000      9.000000    6.000000   \n",
       "\n",
       "       invoiceNumberChristmasTree       KmDriven  \n",
       "count                  890.000000     890.000000  \n",
       "mean                 52188.444944   34834.836961  \n",
       "std                  28510.925697    7457.147624  \n",
       "min                    390.000000   30000.000000  \n",
       "25%                  27776.000000   31188.750000  \n",
       "50%                  52843.000000   32168.130000  \n",
       "75%                  76600.250000   34650.000000  \n",
       "max                  99940.000000  106849.380000  "
      ]
     },
     "execution_count": 2,
     "metadata": {},
     "output_type": "execute_result"
    }
   ],
   "source": [
    "#Import data\n",
    "train = pd.read_csv(\"train_christmas_tree.csv\", header=1, sep=\";\", decimal=\",\",\n",
    "                 names=[\"personalID\",\"realChristmasTree\",\"cityOfResidence\",\"gender\",\"age\",\"serviceYears\",\"familySize\",\"invoiceNumberChristmasTree\",\"KmDriven\",\"accountClass\",\"branch\",\"name\"\n",
    "])\n",
    "\n",
    "test = pd.read_csv(\"test_christmas_tree.csv\", header=0, sep=\";\", decimal=\",\", \n",
    "                  names=[\"personalID\",\"cityOfResidence\",\"gender\",\"age\",\"serviceYears\",\"familySize\",\"invoiceNumberChristmasTree\",\"KmDriven\",\"accountClass\",\"branch\",\"name\"\n",
    "])\n",
    "\n",
    "train.describe()\n"
   ]
  },
  {
   "cell_type": "markdown",
   "metadata": {},
   "source": [
    "# Data Exploration"
   ]
  },
  {
   "cell_type": "code",
   "execution_count": 3,
   "metadata": {
    "collapsed": false,
    "scrolled": true
   },
   "outputs": [
    {
     "data": {
      "text/plain": [
       "25.046875"
      ]
     },
     "execution_count": 3,
     "metadata": {},
     "output_type": "execute_result"
    }
   ],
   "source": [
    "# What was the average age of the females that do not have a real christmas tree at home? \n",
    "# Give your answer with 2 decimals, for example 23.15\n",
    "(train[(train['gender']=='female') & (train['realChristmasTree']==0)]['age']).mean()\n"
   ]
  },
  {
   "cell_type": "markdown",
   "metadata": {},
   "source": [
    "# Data Prediction"
   ]
  },
  {
   "cell_type": "markdown",
   "metadata": {},
   "source": [
    "## Prepare training data"
   ]
  },
  {
   "cell_type": "code",
   "execution_count": 4,
   "metadata": {
    "collapsed": false
   },
   "outputs": [
    {
     "data": {
      "text/html": [
       "<div>\n",
       "<table border=\"1\" class=\"dataframe\">\n",
       "  <thead>\n",
       "    <tr style=\"text-align: right;\">\n",
       "      <th></th>\n",
       "      <th>personalID</th>\n",
       "      <th>realChristmasTree</th>\n",
       "      <th>cityOfResidence</th>\n",
       "      <th>gender</th>\n",
       "      <th>age</th>\n",
       "      <th>serviceYears</th>\n",
       "      <th>familySize</th>\n",
       "      <th>invoiceNumberChristmasTree</th>\n",
       "      <th>KmDriven</th>\n",
       "      <th>accountClass</th>\n",
       "      <th>branch</th>\n",
       "      <th>name</th>\n",
       "    </tr>\n",
       "  </thead>\n",
       "  <tbody>\n",
       "    <tr>\n",
       "      <th>0</th>\n",
       "      <td>2</td>\n",
       "      <td>1</td>\n",
       "      <td>Amsterdam</td>\n",
       "      <td>female</td>\n",
       "      <td>38.0</td>\n",
       "      <td>2</td>\n",
       "      <td>0</td>\n",
       "      <td>32437</td>\n",
       "      <td>40692.495</td>\n",
       "      <td>C</td>\n",
       "      <td>Amsterdam (the Edge)</td>\n",
       "      <td>TANEJA, Mrs. susi</td>\n",
       "    </tr>\n",
       "    <tr>\n",
       "      <th>1</th>\n",
       "      <td>3</td>\n",
       "      <td>1</td>\n",
       "      <td>Leiden</td>\n",
       "      <td>female</td>\n",
       "      <td>26.0</td>\n",
       "      <td>1</td>\n",
       "      <td>0</td>\n",
       "      <td>24104</td>\n",
       "      <td>31188.750</td>\n",
       "      <td>NaN</td>\n",
       "      <td>Rotterdam</td>\n",
       "      <td>GALLI, Miss. kristina</td>\n",
       "    </tr>\n",
       "    <tr>\n",
       "      <th>2</th>\n",
       "      <td>4</td>\n",
       "      <td>1</td>\n",
       "      <td>Amsterdam</td>\n",
       "      <td>female</td>\n",
       "      <td>35.0</td>\n",
       "      <td>2</td>\n",
       "      <td>0</td>\n",
       "      <td>43238</td>\n",
       "      <td>37965.000</td>\n",
       "      <td>C</td>\n",
       "      <td>Rotterdam</td>\n",
       "      <td>RIVA, Mrs. jolie</td>\n",
       "    </tr>\n",
       "    <tr>\n",
       "      <th>3</th>\n",
       "      <td>5</td>\n",
       "      <td>0</td>\n",
       "      <td>Leiden</td>\n",
       "      <td>male</td>\n",
       "      <td>35.0</td>\n",
       "      <td>1</td>\n",
       "      <td>0</td>\n",
       "      <td>66325</td>\n",
       "      <td>31207.500</td>\n",
       "      <td>NaN</td>\n",
       "      <td>Rotterdam</td>\n",
       "      <td>BRINGAS, Mr. alvan</td>\n",
       "    </tr>\n",
       "    <tr>\n",
       "      <th>4</th>\n",
       "      <td>6</td>\n",
       "      <td>0</td>\n",
       "      <td>Leiden</td>\n",
       "      <td>male</td>\n",
       "      <td>NaN</td>\n",
       "      <td>1</td>\n",
       "      <td>0</td>\n",
       "      <td>49297</td>\n",
       "      <td>31268.745</td>\n",
       "      <td>NaN</td>\n",
       "      <td>Utrecht</td>\n",
       "      <td>TURCOTT, Mr. francklin</td>\n",
       "    </tr>\n",
       "  </tbody>\n",
       "</table>\n",
       "</div>"
      ],
      "text/plain": [
       "   personalID  realChristmasTree cityOfResidence  gender   age  serviceYears  \\\n",
       "0           2                  1       Amsterdam  female  38.0             2   \n",
       "1           3                  1          Leiden  female  26.0             1   \n",
       "2           4                  1       Amsterdam  female  35.0             2   \n",
       "3           5                  0          Leiden    male  35.0             1   \n",
       "4           6                  0          Leiden    male   NaN             1   \n",
       "\n",
       "   familySize  invoiceNumberChristmasTree   KmDriven accountClass  \\\n",
       "0           0                       32437  40692.495            C   \n",
       "1           0                       24104  31188.750          NaN   \n",
       "2           0                       43238  37965.000            C   \n",
       "3           0                       66325  31207.500          NaN   \n",
       "4           0                       49297  31268.745          NaN   \n",
       "\n",
       "                 branch                    name  \n",
       "0  Amsterdam (the Edge)       TANEJA, Mrs. susi  \n",
       "1             Rotterdam   GALLI, Miss. kristina  \n",
       "2             Rotterdam        RIVA, Mrs. jolie  \n",
       "3             Rotterdam      BRINGAS, Mr. alvan  \n",
       "4               Utrecht  TURCOTT, Mr. francklin  "
      ]
     },
     "execution_count": 4,
     "metadata": {},
     "output_type": "execute_result"
    }
   ],
   "source": [
    "train.head()"
   ]
  },
  {
   "cell_type": "code",
   "execution_count": 10,
   "metadata": {
    "collapsed": false,
    "scrolled": false
   },
   "outputs": [],
   "source": [
    "#train"
   ]
  },
  {
   "cell_type": "code",
   "execution_count": 6,
   "metadata": {
    "collapsed": false
   },
   "outputs": [
    {
     "data": {
      "text/html": [
       "<div>\n",
       "<table border=\"1\" class=\"dataframe\">\n",
       "  <thead>\n",
       "    <tr style=\"text-align: right;\">\n",
       "      <th></th>\n",
       "      <th>cityOfResidence</th>\n",
       "      <th>gender</th>\n",
       "      <th>age</th>\n",
       "      <th>serviceYears</th>\n",
       "      <th>familySize</th>\n",
       "      <th>KmDriven</th>\n",
       "      <th>accountClass</th>\n",
       "      <th>branch</th>\n",
       "    </tr>\n",
       "  </thead>\n",
       "  <tbody>\n",
       "    <tr>\n",
       "      <th>count</th>\n",
       "      <td>667.000000</td>\n",
       "      <td>667.000000</td>\n",
       "      <td>667.000000</td>\n",
       "      <td>667.000000</td>\n",
       "      <td>667.000000</td>\n",
       "      <td>667.000000</td>\n",
       "      <td>667.000000</td>\n",
       "      <td>667.000000</td>\n",
       "    </tr>\n",
       "    <tr>\n",
       "      <th>mean</th>\n",
       "      <td>0.977511</td>\n",
       "      <td>0.349325</td>\n",
       "      <td>29.670794</td>\n",
       "      <td>1.526237</td>\n",
       "      <td>0.386807</td>\n",
       "      <td>34852.793118</td>\n",
       "      <td>2.425728</td>\n",
       "      <td>0.899397</td>\n",
       "    </tr>\n",
       "    <tr>\n",
       "      <th>std</th>\n",
       "      <td>0.669658</td>\n",
       "      <td>0.477115</td>\n",
       "      <td>13.150811</td>\n",
       "      <td>1.109805</td>\n",
       "      <td>0.803711</td>\n",
       "      <td>7761.237773</td>\n",
       "      <td>0.727320</td>\n",
       "      <td>0.511519</td>\n",
       "    </tr>\n",
       "    <tr>\n",
       "      <th>min</th>\n",
       "      <td>0.000000</td>\n",
       "      <td>0.000000</td>\n",
       "      <td>0.420000</td>\n",
       "      <td>1.000000</td>\n",
       "      <td>0.000000</td>\n",
       "      <td>30000.000000</td>\n",
       "      <td>0.000000</td>\n",
       "      <td>0.000000</td>\n",
       "    </tr>\n",
       "    <tr>\n",
       "      <th>25%</th>\n",
       "      <td>1.000000</td>\n",
       "      <td>0.000000</td>\n",
       "      <td>22.000000</td>\n",
       "      <td>1.000000</td>\n",
       "      <td>0.000000</td>\n",
       "      <td>31188.750000</td>\n",
       "      <td>2.392157</td>\n",
       "      <td>1.000000</td>\n",
       "    </tr>\n",
       "    <tr>\n",
       "      <th>50%</th>\n",
       "      <td>1.000000</td>\n",
       "      <td>0.000000</td>\n",
       "      <td>29.709916</td>\n",
       "      <td>1.000000</td>\n",
       "      <td>0.000000</td>\n",
       "      <td>32079.375000</td>\n",
       "      <td>2.392157</td>\n",
       "      <td>1.000000</td>\n",
       "    </tr>\n",
       "    <tr>\n",
       "      <th>75%</th>\n",
       "      <td>1.000000</td>\n",
       "      <td>1.000000</td>\n",
       "      <td>35.000000</td>\n",
       "      <td>2.000000</td>\n",
       "      <td>0.000000</td>\n",
       "      <td>34650.000000</td>\n",
       "      <td>2.392157</td>\n",
       "      <td>1.000000</td>\n",
       "    </tr>\n",
       "    <tr>\n",
       "      <th>max</th>\n",
       "      <td>2.000000</td>\n",
       "      <td>1.000000</td>\n",
       "      <td>80.000000</td>\n",
       "      <td>9.000000</td>\n",
       "      <td>6.000000</td>\n",
       "      <td>106849.380000</td>\n",
       "      <td>7.000000</td>\n",
       "      <td>2.000000</td>\n",
       "    </tr>\n",
       "  </tbody>\n",
       "</table>\n",
       "</div>"
      ],
      "text/plain": [
       "       cityOfResidence      gender         age  serviceYears  familySize  \\\n",
       "count       667.000000  667.000000  667.000000    667.000000  667.000000   \n",
       "mean          0.977511    0.349325   29.670794      1.526237    0.386807   \n",
       "std           0.669658    0.477115   13.150811      1.109805    0.803711   \n",
       "min           0.000000    0.000000    0.420000      1.000000    0.000000   \n",
       "25%           1.000000    0.000000   22.000000      1.000000    0.000000   \n",
       "50%           1.000000    0.000000   29.709916      1.000000    0.000000   \n",
       "75%           1.000000    1.000000   35.000000      2.000000    0.000000   \n",
       "max           2.000000    1.000000   80.000000      9.000000    6.000000   \n",
       "\n",
       "            KmDriven  accountClass      branch  \n",
       "count     667.000000    667.000000  667.000000  \n",
       "mean    34852.793118      2.425728    0.899397  \n",
       "std      7761.237773      0.727320    0.511519  \n",
       "min     30000.000000      0.000000    0.000000  \n",
       "25%     31188.750000      2.392157    1.000000  \n",
       "50%     32079.375000      2.392157    1.000000  \n",
       "75%     34650.000000      2.392157    1.000000  \n",
       "max    106849.380000      7.000000    2.000000  "
      ]
     },
     "execution_count": 6,
     "metadata": {},
     "output_type": "execute_result"
    }
   ],
   "source": [
    "from sklearn.model_selection import train_test_split\n",
    "\n",
    "# train_test_split can be used to split a dataset into a training and test set\n",
    "# we use random_state=0 to seed the random generator so it will always do this split in the same way\n",
    "X= train.drop(['personalID', 'name','realChristmasTree', 'invoiceNumberChristmasTree'], axis=1)\n",
    "y = train.realChristmasTree\n",
    "\n",
    "\n",
    "X['gender'] = X['gender'].map(dict(male=0, female=1))\n",
    "X.branch.replace({\"Amsterdam (the Edge)\": 0, \"Rotterdam\": 1, \"Utrecht\":2}, inplace=True)\n",
    "X.cityOfResidence.replace({\"Amsterdam\": 0, \"Leiden\": 1, \"Utrecht\":2}, inplace=True)\n",
    "X.accountClass.replace({\"A\": 0, \"B\": 1, \"C\":2, \"D\":3, \"E\":4, \"F\":5, \"G\":6, \"T\":7}, inplace=True)\n",
    "\n",
    "X.fillna(X.mean(), inplace=True)\n",
    "\n",
    "\n",
    "trainX, testX, trainY, testY = train_test_split(X, y, random_state=0)\n",
    "\n",
    "from sklearn import preprocessing\n",
    "scaler = preprocessing.StandardScaler().fit(trainX)\n",
    "scaler.transform(trainX) \n",
    "   \n",
    "\n",
    "trainX.describe()"
   ]
  },
  {
   "cell_type": "markdown",
   "metadata": {},
   "source": [
    "## Prepare testing data\n"
   ]
  },
  {
   "cell_type": "code",
   "execution_count": 7,
   "metadata": {
    "collapsed": false
   },
   "outputs": [
    {
     "data": {
      "text/html": [
       "<div>\n",
       "<table border=\"1\" class=\"dataframe\">\n",
       "  <thead>\n",
       "    <tr style=\"text-align: right;\">\n",
       "      <th></th>\n",
       "      <th>cityOfResidence</th>\n",
       "      <th>gender</th>\n",
       "      <th>age</th>\n",
       "      <th>serviceYears</th>\n",
       "      <th>familySize</th>\n",
       "      <th>KmDriven</th>\n",
       "      <th>accountClass</th>\n",
       "      <th>branch</th>\n",
       "    </tr>\n",
       "  </thead>\n",
       "  <tbody>\n",
       "    <tr>\n",
       "      <th>0</th>\n",
       "      <td>1</td>\n",
       "      <td>0</td>\n",
       "      <td>34.5</td>\n",
       "      <td>1</td>\n",
       "      <td>0</td>\n",
       "      <td>31174.380</td>\n",
       "      <td>2.425728</td>\n",
       "      <td>2</td>\n",
       "    </tr>\n",
       "    <tr>\n",
       "      <th>1</th>\n",
       "      <td>1</td>\n",
       "      <td>1</td>\n",
       "      <td>47.0</td>\n",
       "      <td>2</td>\n",
       "      <td>0</td>\n",
       "      <td>31050.000</td>\n",
       "      <td>2.425728</td>\n",
       "      <td>1</td>\n",
       "    </tr>\n",
       "    <tr>\n",
       "      <th>2</th>\n",
       "      <td>2</td>\n",
       "      <td>0</td>\n",
       "      <td>62.0</td>\n",
       "      <td>1</td>\n",
       "      <td>0</td>\n",
       "      <td>31453.125</td>\n",
       "      <td>2.425728</td>\n",
       "      <td>2</td>\n",
       "    </tr>\n",
       "    <tr>\n",
       "      <th>3</th>\n",
       "      <td>1</td>\n",
       "      <td>0</td>\n",
       "      <td>27.0</td>\n",
       "      <td>1</td>\n",
       "      <td>0</td>\n",
       "      <td>31299.375</td>\n",
       "      <td>2.425728</td>\n",
       "      <td>1</td>\n",
       "    </tr>\n",
       "    <tr>\n",
       "      <th>4</th>\n",
       "      <td>1</td>\n",
       "      <td>1</td>\n",
       "      <td>22.0</td>\n",
       "      <td>2</td>\n",
       "      <td>1</td>\n",
       "      <td>31843.125</td>\n",
       "      <td>2.425728</td>\n",
       "      <td>1</td>\n",
       "    </tr>\n",
       "  </tbody>\n",
       "</table>\n",
       "</div>"
      ],
      "text/plain": [
       "   cityOfResidence  gender   age  serviceYears  familySize   KmDriven  \\\n",
       "0                1       0  34.5             1           0  31174.380   \n",
       "1                1       1  47.0             2           0  31050.000   \n",
       "2                2       0  62.0             1           0  31453.125   \n",
       "3                1       0  27.0             1           0  31299.375   \n",
       "4                1       1  22.0             2           1  31843.125   \n",
       "\n",
       "   accountClass  branch  \n",
       "0      2.425728       2  \n",
       "1      2.425728       1  \n",
       "2      2.425728       2  \n",
       "3      2.425728       1  \n",
       "4      2.425728       1  "
      ]
     },
     "execution_count": 7,
     "metadata": {},
     "output_type": "execute_result"
    }
   ],
   "source": [
    "Xs = test.copy()\n",
    "\n",
    "Xs['gender'] = Xs['gender'].map(dict(male=0, female=1))\n",
    "Xs.branch.replace({\"Amsterdam (the Edge)\": 0, \"Rotterdam\": 1, \"Utrecht\":2}, inplace=True)\n",
    "Xs.cityOfResidence.replace({\"Amsterdam\": 0, \"Leiden\": 1, \"Utrecht\":2}, inplace=True)\n",
    "Xs.accountClass.replace({\"A\": 0, \"B\": 1, \"C\":2, \"D\":3, \"E\":4, \"F\":5, \"G\":6, \"T\":7}, inplace=True)\n",
    "\n",
    "Xs.fillna(trainX.mean(), inplace=True)\n",
    "\n",
    "Xs = Xs.drop(['personalID', 'name', 'invoiceNumberChristmasTree'], axis=1)\n",
    "\n",
    "scaler.transform(Xs)\n",
    "\n",
    "Xs.describe()\n",
    "Xs.head()\n"
   ]
  },
  {
   "cell_type": "markdown",
   "metadata": {},
   "source": [
    "## Prediction"
   ]
  },
  {
   "cell_type": "code",
   "execution_count": 8,
   "metadata": {
    "collapsed": false,
    "scrolled": true
   },
   "outputs": [
    {
     "name": "stdout",
     "output_type": "stream",
     "text": [
      "Model accuracy: 82.51%\n",
      "[0 1 0 0 1 0 1 0 1 0 0 0 1 0 1 1 0 0 0 1 0 1 1 0 1 0 1 0 0 0 0 0 0 0 0 0 0\n",
      " 0 0 0 0 1 0 1 1 0 0 0 1 1 0 0 1 1 0 0 0 0 0 1 0 0 0 1 1 1 1 0 0 1 1 0 0 0\n",
      " 1 0 0 1 0 1 1 0 0 0 0 0 1 1 1 1 1 0 1 0 0 0 1 0 1 0 1 0 0 0 1 0 0 0 0 0 0\n",
      " 1 1 1 1 0 0 1 0 1 1 0 1 0 0 1 0 1 0 0 0 0 0 0 0 0 0 0 0 0 0 1 0 0 1 0 0 0\n",
      " 1 0 1 0 0 1 0 0 1 1 1 1 1 1 1 0 0 1 0 0 1 0 0 0 0 0 0 1 1 0 1 1 0 0 1 0 1\n",
      " 0 1 0 0 0 0 0 1 0 1 0 1 1 0 0 1 1 0 1 0 0 1 0 1 0 0 0 0 1 1 0 1 0 1 0 1 0\n",
      " 1 0 1 1 0 1 0 0 0 1 0 0 0 0 0 0 1 1 1 1 0 0 0 0 1 0 1 1 1 0 0 0 0 0 0 0 1\n",
      " 0 0 0 1 1 0 0 0 0 0 0 0 0 1 1 0 1 0 0 0 0 0 1 1 1 1 0 0 0 0 0 0 1 0 0 0 0\n",
      " 1 0 0 0 0 0 0 0 1 1 0 1 0 1 0 0 0 1 1 1 0 0 0 0 0 0 0 1 1 0 1 0 0 0 1 0 0\n",
      " 1 0 0 0 0 0 0 0 0 0 1 0 1 0 1 0 1 1 0 0 0 1 0 1 0 0 1 0 1 1 0 1 0 0 1 1 0\n",
      " 0 1 0 0 1 1 0 0 0 1 0 0 1 1 0 1 0 0 0 0 0 1 1 0 0 1 0 1 0 0 1 0 1 0 0 0 0\n",
      " 0 1 1 1 1 1 0 1 0 0 0]\n"
     ]
    }
   ],
   "source": [
    "import sklearn\n",
    "\n",
    "#from sklearn import linear_model\n",
    "#model = sklearn.linear_model.LinearRegression()\n",
    "#model.fit(trainX, trainY)\n",
    "\n",
    "#from sklearn.linear_model import LogisticRegression\n",
    "#model = LogisticRegression(penalty='l1', max_iter=1000)\n",
    "\n",
    "from sklearn.ensemble import RandomForestClassifier\n",
    "#model=RandomForestClassifier(max_depth=3, random_state=0) #76.08\n",
    "#model=RandomForestClassifier(max_depth=3, random_state=0, max_features=None) #76.79\n",
    "model=RandomForestClassifier(max_depth=5, random_state=0, max_features=None)\n",
    "\n",
    "\n",
    "###########################################################\n",
    "model.fit(trainX, trainY)\n",
    "\n",
    "print(\"Model accuracy: %.2f%%\" % (model.score(testX, testY)*100))\n",
    "\n",
    "\n",
    "predictions = model.predict(Xs)\n",
    "print(predictions)"
   ]
  },
  {
   "cell_type": "code",
   "execution_count": 9,
   "metadata": {
    "collapsed": false
   },
   "outputs": [
    {
     "name": "stdout",
     "output_type": "stream",
     "text": [
      "0100101010001011000101101010000000000000010110001100110000010001111001100010010110000011111010001010100010000001111001011010010100000000000001001000101001001111111001001000000110110010101000001010110011010010100001101010101011010001000000111100001011100000001000110000000011010000011110000001000010000000110101000111000000011010001001000000000101010110001010010110100110010011000100110100000110010100101000001111101000\n"
     ]
    }
   ],
   "source": [
    "print(''.join(map(str, predictions)))"
   ]
  },
  {
   "cell_type": "code",
   "execution_count": null,
   "metadata": {
    "collapsed": true
   },
   "outputs": [],
   "source": []
  }
 ],
 "metadata": {
  "anaconda-cloud": {},
  "kernelspec": {
   "display_name": "Python [default]",
   "language": "python",
   "name": "python3"
  },
  "language_info": {
   "codemirror_mode": {
    "name": "ipython",
    "version": 3
   },
   "file_extension": ".py",
   "mimetype": "text/x-python",
   "name": "python",
   "nbconvert_exporter": "python",
   "pygments_lexer": "ipython3",
   "version": "3.5.2"
  }
 },
 "nbformat": 4,
 "nbformat_minor": 1
}
